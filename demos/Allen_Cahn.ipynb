{
  "nbformat": 4,
  "nbformat_minor": 0,
  "metadata": {
    "colab": {
      "provenance": [],
      "authorship_tag": "ABX9TyOG1iaOv5Z/yGUa8NO9Y298",
      "include_colab_link": true
    },
    "kernelspec": {
      "name": "python3",
      "display_name": "Python 3"
    },
    "language_info": {
      "name": "python"
    }
  },
  "cells": [
    {
      "cell_type": "markdown",
      "metadata": {
        "id": "view-in-github",
        "colab_type": "text"
      },
      "source": [
        "<a href=\"https://colab.research.google.com/github/mwelland/Wyrm/blob/main/demos/Allen_Cahn.ipynb\" target=\"_parent\"><img src=\"https://colab.research.google.com/assets/colab-badge.svg\" alt=\"Open In Colab\"/></a>"
      ]
    },
    {
      "cell_type": "markdown",
      "source": [
        "# Demonstration of Allen Cahn model"
      ],
      "metadata": {
        "id": "ExYarSPhg5Qa"
      }
    },
    {
      "cell_type": "code",
      "execution_count": 16,
      "metadata": {
        "id": "Dhyd1-1sgAwi"
      },
      "outputs": [],
      "source": [
        "#Install Firedrake if not installed\n",
        "try:\n",
        "    from firedrake import *\n",
        "except ImportError:\n",
        "    !wget \"https://fem-on-colab.github.io/releases/firedrake-install-release-real.sh\" -O \"/tmp/firedrake-install.sh\" && bash \"/tmp/firedrake-install.sh\"\n",
        "    from firedrake import *"
      ]
    },
    {
      "cell_type": "code",
      "source": [
        "# Parameters\n",
        "interface_width = .1\n",
        "interface_energy = 1\n",
        "interface_mobility = 1"
      ],
      "metadata": {
        "id": "0lGq1IR7hNn2"
      },
      "execution_count": 17,
      "outputs": []
    },
    {
      "cell_type": "code",
      "source": [
        "# Create a mesh with resolution of approximately the interface width\n",
        "mesh_resolution = int(1/interface_width)\n",
        "mesh = UnitSquareMesh(mesh_resolution, mesh_resolution)\n",
        "\n",
        "x = SpatialCoordinate(mesh)"
      ],
      "metadata": {
        "id": "hB7jO51uhrPC"
      },
      "execution_count": 21,
      "outputs": []
    },
    {
      "cell_type": "code",
      "source": [
        "# Define the function space and instanciate the function and test_functions\n",
        "V = FunctionSpace(mesh, \"CG\", 1, name=\"phase\")\n",
        "\n",
        "phase = Function(V)\n",
        "test_phase = TestFunction(V)"
      ],
      "metadata": {
        "id": "tUDDxKnih4Wr"
      },
      "execution_count": 19,
      "outputs": []
    },
    {
      "cell_type": "code",
      "source": [
        "# Phase field functions\n",
        "p_phase = phase**3*(6*phase**2-15*phase+10)\n",
        "g_phase = phase**2*(1-phase)**2\n",
        "interface_area = 3*( interface_width**2*inner(grad(phase),grad(phase)) + g_phase)\n",
        "\n",
        "driving_force = derivative(interface_energy*interface_area, phase, test_phase)\n",
        "F_phase_interface = -interface_mobility*driving_force*dx"
      ],
      "metadata": {
        "id": "m2e0yl48ii5t"
      },
      "execution_count": 20,
      "outputs": []
    },
    {
      "cell_type": "code",
      "source": [
        "# Set initial condition to be a circle in the middle of the mesh\n",
        "centre = as_vector([.5,.5])\n",
        "r0 = .3\n",
        "\n",
        "def tanh_solution(x):\n",
        "  return 0.5*(tanh(x/(2*interface_width)) + 1)\n",
        "\n",
        "phase.assign(tanh_solution(norm(x-centre) - r0))"
      ],
      "metadata": {
        "id": "UX9-s_g9jZtk",
        "outputId": "9bba387c-6200-484c-f83f-35ef3e8cf793",
        "colab": {
          "base_uri": "https://localhost:8080/"
        }
      },
      "execution_count": 26,
      "outputs": [
        {
          "output_type": "execute_result",
          "data": {
            "text/plain": [
              "Coefficient(WithGeometry(FunctionSpace(<firedrake.mesh.MeshTopology object at 0x7aff96cdef50>, FiniteElement('Lagrange', triangle, 1), name='phase'), Mesh(VectorElement(FiniteElement('Lagrange', triangle, 1), dim=2), 7)), 9)"
            ]
          },
          "metadata": {},
          "execution_count": 26
        }
      ]
    },
    {
      "cell_type": "code",
      "source": [],
      "metadata": {
        "id": "8EmJuef1lMoc"
      },
      "execution_count": null,
      "outputs": []
    }
  ]
}