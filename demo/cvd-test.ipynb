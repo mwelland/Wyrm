{
 "cells": [
  {
   "cell_type": "code",
   "execution_count": 3,
   "metadata": {},
   "outputs": [
    {
     "name": "stdout",
     "output_type": "stream",
     "text": [
      "Using 3 levels of refinement\n",
      "Thermodynamic driver forces loaded\n"
     ]
    }
   ],
   "source": [
    "from firedrake import *\n",
    "from tools import *\n",
    "from thermo_potentials import load_potential\n",
    "from math import log, ceil\n",
    "\n",
    "M_phi = 1e-3#1e-8\n",
    "D = 1e-3 #m^2/s = .1 cm^2/s\n",
    "interface_width = .1\n",
    "\n",
    "x_scale = 1\n",
    "c_scale = 1\n",
    "\n",
    "Lx = 2\n",
    "Ly = Lx/1\n",
    "Lz = Lx/1\n",
    "\n",
    "# Coarse mesh should have an 'appreciable' resolution. Fine mesh is scale of feature of interest\n",
    "mesh_res_coarse = Lx/4\n",
    "mesh_res_final = interface_width #target mesh resolution\n",
    "mg_levels = ceil( log(mesh_res_coarse/mesh_res_final,2) )\n",
    "print('Using {} levels of refinement'.format(mg_levels))\n",
    "\n",
    "mesh = BoxMesh(round(Lx/mesh_res_coarse), round(Ly/mesh_res_coarse), round(Lz/mesh_res_coarse), Lx/x_scale, Ly/x_scale, Lz/x_scale, reorder=True)\n",
    "#mesh = BoxMesh(round(Lx/mesh_res_final), round(Ly/mesh_res_final), round(Lz/mesh_res_final), Lx/x_scale, Ly/x_scale, Lz/x_scale, reorder=True)\n",
    "\n",
    "#mesh = RectangleMesh(round(Lx/mesh_res_coarse), round(Ly/mesh_res_coarse), Lx/x_scale, Ly/x_scale)\n",
    "\n",
    "hierarchy = MeshHierarchy(mesh, mg_levels)\n",
    "mesh = hierarchy[-1]\n",
    "\n",
    "# utility function to help with non-dimensionalization\n",
    "def gr(x):\n",
    "    return grad(x)/x_scale\n",
    "\n",
    "#n - number of species, m = number of phases\n",
    "n = 2\n",
    "m = 3\n",
    "\n",
    "xmesh = SpatialCoordinate(mesh)\n",
    "x = xmesh*x_scale\n",
    "\n",
    "V_phase = VectorFunctionSpace(mesh, \"CG\", 1, dim = m-1, name=\"phases\")\n",
    "V_species = VectorFunctionSpace(mesh, \"CG\", 1, dim=n, name =\"species\")\n",
    "V = MixedFunctionSpace([V_species, V_phase])\n",
    "\n",
    "U = Function(V)\n",
    "dU = TrialFunction(V)\n",
    "test_U = TestFunction(V)\n",
    "test_c, test_phase = split(test_U)\n",
    "\n",
    "cmesh, phase = split(U)\n",
    "\n",
    "c = c_scale*cmesh\n",
    "\n",
    "#Assemble full vector of phi and p_phase\n",
    "phi = [p for p in phase]+[1-sum(phase)]\n",
    "p_phase = [p**3*(6*p**2-15*p+10) for p in phi]\n",
    "ps = as_vector(p_phase)\n",
    "\n",
    "# Build multiphase energy -> to be moved to thermo potential.\n",
    "def multiphase(p, interface_width):\n",
    "    def antisymmetric_gradient(pa, pb):\n",
    "        return 3*(interface_width**2*( pa*gr(pb) - pb*gr(pa) )**2 + pa**2*pb**2)\n",
    "    return [antisymmetric_gradient(p[i], p[j]) for i in range(len(p)) for j in range(i)]\n",
    "interface_area =  multiphase(phi, interface_width)\n",
    "\n",
    "# pa = phi[0]\n",
    "# pb = phi[1]\n",
    "# pc = phi[2]\n",
    "# a = 50\n",
    "# interface_energy = 5000*3*(interface_width**2*( pa*gr(pb) - pb*gr(pa) )**2 + pa**2*pb**2*(1+a*pc**2)\n",
    "#                     + interface_width**2*( pc*gr(pb) - pb*gr(pc) )**2 + pc**2*pb**2*(1+a*pa**2)\n",
    "#                     + interface_width**2*( pc*gr(pa) - pa*gr(pc) )**2 + pc**2*pa**2*(1+a*pb**2))\n",
    "interface_energy = inner(as_vector([5000,5000,5000]), as_vector(interface_area))\n",
    "\n",
    "#Load potential\n",
    "pot = load_potential('binary_3phase_elastic')\n",
    "response = pot.grad([ci for ci in c]+p_phase)   #Fixme - shouldn't be negative\n",
    "mu = as_vector(response[:n])\n",
    "P = as_vector(response[n:])\n",
    "print('Thermodynamic driver forces loaded')\n",
    "\n",
    "# build diffusion equation\n",
    "J =  -D*gr(mu)\n",
    "F_diffusion = inner(J, gr(test_c))*dx\n",
    "F_diffusion = 1/c_scale*F_diffusion\n",
    "\n",
    "# build phase field equaiton\n",
    "F_phase_bulk = -M_phi*inner(P, derivative(ps, phase, test_phase))*dx\n",
    "F_phase_interface = -M_phi*derivative( interface_energy, phase, test_phase)*dx\n",
    "F_phase = F_phase_bulk + F_phase_interface\n",
    "\n",
    "# ~~~ Initial conditions ~~~ #\n",
    "# phase initial conditions\n",
    "def create_bubble(centre, radius):\n",
    "    centre = as_vector(centre)\n",
    "    r = sqrt(inner(x-centre, x-centre))\n",
    "    return .5*(1.-tanh((r-radius)/(2.*interface_width)))\n",
    "\n",
    "p0 = create_bubble( [.2*Lx, .2*Lx, 0], .09*Lx)\n",
    "p1 = create_bubble( [.8*Lx, .8*Lx, 0], .09*Lx)\n",
    "p2 = create_bubble( [.2*Lx, .8*Lx, 0], .09*Lx)\n",
    "p3 = create_bubble( [.8*Lx, .2*Lx, 0], .09*Lx)\n",
    "#p_total =  p0+p1 etc\n",
    "#p_total = min/max()\n",
    "\n",
    "#U.sub(1).interpolate(as_vector([p0,p1]))\n"
   ]
  },
  {
   "cell_type": "code",
   "execution_count": 29,
   "metadata": {},
   "outputs": [
    {
     "name": "stdout",
     "output_type": "stream",
     "text": [
      "w⃗₁₆[2]\n"
     ]
    }
   ],
   "source": [
    "print(phi[0])"
   ]
  },
  {
   "cell_type": "code",
   "execution_count": 12,
   "metadata": {},
   "outputs": [
    {
     "data": {
      "text/plain": [
       "Coefficient(WithGeometry(IndexedProxyFunctionSpace(<firedrake.mesh.MeshTopology object at 0x7f68289071c0>, VectorElement(FiniteElement('Lagrange', tetrahedron, 1), dim=2), name='phases', index=1, component=None), Mesh(VectorElement(FiniteElement('Lagrange', tetrahedron, 1), dim=3), 15)), 20)"
      ]
     },
     "execution_count": 12,
     "metadata": {},
     "output_type": "execute_result"
    }
   ],
   "source": [
    "ic = (1/(1+2.71**(-2.0*50.0*(x[2]-0.1)))*(x[2]**(0.1)))/Lx *mesh_res_coarse\n",
    "U.sub(1).interpolate(as_vector([p0,p1]))\n"
   ]
  },
  {
   "cell_type": "code",
   "execution_count": 11,
   "metadata": {},
   "outputs": [
    {
     "name": "stdout",
     "output_type": "stream",
     "text": [
      "[0.5 * (1.0 + -1 * tanh((-0.18 + sqrt((x + ({ A | A_{i_{62}} = -1 * ([0.4, 0.4, 0])[i_{62}] })) : (x + ({ A | A_{i_{63}} = -1 * ([0.4, 0.4, 0])[i_{63}] })))) / 0.2)), 0.5 * (1.0 + -1 * tanh((-0.18 + sqrt((x + ({ A | A_{i_{64}} = -1 * ([1.6, 1.6, 0])[i_{64}] })) : (x + ({ A | A_{i_{65}} = -1 * ([1.6, 1.6, 0])[i_{65}] })))) / 0.2))]\n"
     ]
    }
   ],
   "source": [
    "u = as_vector([p0,p1])\n",
    "\n",
    "#make 2 big bubbles of 2 phases\n",
    "#2 problems: 1)multiple buibbles of same phase\n",
    "#            2) intersection of bubbles of different phases\n",
    "\n",
    "print(u)"
   ]
  },
  {
   "cell_type": "code",
   "execution_count": 27,
   "metadata": {},
   "outputs": [
    {
     "ename": "ValueError",
     "evalue": "Expecting scalar arguments.",
     "output_type": "error",
     "traceback": [
      "\u001b[0;31m---------------------------------------------------------------------------\u001b[0m",
      "\u001b[0;31mValueError\u001b[0m                                Traceback (most recent call last)",
      "Cell \u001b[0;32mIn[27], line 1\u001b[0m\n\u001b[0;32m----> 1\u001b[0m \u001b[38;5;28mprint\u001b[39m(\u001b[38;5;28;43mmin\u001b[39;49m\u001b[43m(\u001b[49m\u001b[43mU\u001b[49m\u001b[38;5;241;43m.\u001b[39;49m\u001b[43msub\u001b[49m\u001b[43m(\u001b[49m\u001b[38;5;241;43m1\u001b[39;49m\u001b[43m)\u001b[49m\u001b[43m,\u001b[49m\u001b[38;5;241;43m1\u001b[39;49m\u001b[43m)\u001b[49m)\n",
      "File \u001b[0;32m~/firedrake/src/ufl/ufl/exproperators.py:53\u001b[0m, in \u001b[0;36m_gt\u001b[0;34m(left, right)\u001b[0m\n\u001b[1;32m     51\u001b[0m \u001b[38;5;28;01mdef\u001b[39;00m \u001b[38;5;21m_gt\u001b[39m(left, right):\n\u001b[1;32m     52\u001b[0m     \u001b[38;5;124m\"\u001b[39m\u001b[38;5;124mUFL operator: A boolean expresion (left > right) for use with conditional.\u001b[39m\u001b[38;5;124m\"\u001b[39m\n\u001b[0;32m---> 53\u001b[0m     \u001b[38;5;28;01mreturn\u001b[39;00m \u001b[43mGT\u001b[49m\u001b[43m(\u001b[49m\u001b[43mleft\u001b[49m\u001b[43m,\u001b[49m\u001b[43m \u001b[49m\u001b[43mright\u001b[49m\u001b[43m)\u001b[49m\n",
      "File \u001b[0;32m~/firedrake/src/ufl/ufl/conditional.py:158\u001b[0m, in \u001b[0;36mGT.__init__\u001b[0;34m(self, left, right)\u001b[0m\n\u001b[1;32m    157\u001b[0m \u001b[38;5;28;01mdef\u001b[39;00m \u001b[38;5;21m__init__\u001b[39m(\u001b[38;5;28mself\u001b[39m, left, right):\n\u001b[0;32m--> 158\u001b[0m     \u001b[43mBinaryCondition\u001b[49m\u001b[38;5;241;43m.\u001b[39;49m\u001b[38;5;21;43m__init__\u001b[39;49m\u001b[43m(\u001b[49m\u001b[38;5;28;43mself\u001b[39;49m\u001b[43m,\u001b[49m\u001b[43m \u001b[49m\u001b[38;5;124;43m\"\u001b[39;49m\u001b[38;5;124;43m>\u001b[39;49m\u001b[38;5;124;43m\"\u001b[39;49m\u001b[43m,\u001b[49m\u001b[43m \u001b[49m\u001b[43mleft\u001b[49m\u001b[43m,\u001b[49m\u001b[43m \u001b[49m\u001b[43mright\u001b[49m\u001b[43m)\u001b[49m\n",
      "File \u001b[0;32m~/firedrake/src/ufl/ufl/conditional.py:67\u001b[0m, in \u001b[0;36mBinaryCondition.__init__\u001b[0;34m(self, name, left, right)\u001b[0m\n\u001b[1;32m     63\u001b[0m \u001b[38;5;28;01melse\u001b[39;00m:\n\u001b[1;32m     64\u001b[0m     \u001b[38;5;66;03m# Binary operators acting on non-boolean expressions allow\u001b[39;00m\n\u001b[1;32m     65\u001b[0m     \u001b[38;5;66;03m# only scalars\u001b[39;00m\n\u001b[1;32m     66\u001b[0m     \u001b[38;5;28;01mif\u001b[39;00m left\u001b[38;5;241m.\u001b[39mufl_shape \u001b[38;5;241m!=\u001b[39m () \u001b[38;5;129;01mor\u001b[39;00m right\u001b[38;5;241m.\u001b[39mufl_shape \u001b[38;5;241m!=\u001b[39m ():\n\u001b[0;32m---> 67\u001b[0m         \u001b[38;5;28;01mraise\u001b[39;00m \u001b[38;5;167;01mValueError\u001b[39;00m(\u001b[38;5;124m\"\u001b[39m\u001b[38;5;124mExpecting scalar arguments.\u001b[39m\u001b[38;5;124m\"\u001b[39m)\n\u001b[1;32m     68\u001b[0m     \u001b[38;5;28;01mif\u001b[39;00m left\u001b[38;5;241m.\u001b[39mufl_free_indices \u001b[38;5;241m!=\u001b[39m () \u001b[38;5;129;01mor\u001b[39;00m right\u001b[38;5;241m.\u001b[39mufl_free_indices \u001b[38;5;241m!=\u001b[39m ():\n\u001b[1;32m     69\u001b[0m         \u001b[38;5;28;01mraise\u001b[39;00m \u001b[38;5;167;01mValueError\u001b[39;00m(\u001b[38;5;124m\"\u001b[39m\u001b[38;5;124mExpecting scalar arguments.\u001b[39m\u001b[38;5;124m\"\u001b[39m)\n",
      "\u001b[0;31mValueError\u001b[0m: Expecting scalar arguments."
     ]
    }
   ],
   "source": [
    "print(min(U.sub(1),1))"
   ]
  },
  {
   "cell_type": "code",
   "execution_count": 8,
   "metadata": {},
   "outputs": [
    {
     "data": {
      "text/plain": [
       "1"
      ]
     },
     "execution_count": 8,
     "metadata": {},
     "output_type": "execute_result"
    }
   ],
   "source": [
    "min(1,2)"
   ]
  },
  {
   "cell_type": "code",
   "execution_count": 1,
   "metadata": {},
   "outputs": [
    {
     "ename": "NameError",
     "evalue": "name 'p0' is not defined",
     "output_type": "error",
     "traceback": [
      "\u001b[0;31m---------------------------------------------------------------------------\u001b[0m",
      "\u001b[0;31mNameError\u001b[0m                                 Traceback (most recent call last)",
      "Cell \u001b[0;32mIn[1], line 1\u001b[0m\n\u001b[0;32m----> 1\u001b[0m \u001b[43mp0\u001b[49m\n",
      "\u001b[0;31mNameError\u001b[0m: name 'p0' is not defined"
     ]
    }
   ],
   "source": [
    "p0"
   ]
  },
  {
   "cell_type": "code",
   "execution_count": 8,
   "metadata": {},
   "outputs": [
    {
     "name": "stdout",
     "output_type": "stream",
     "text": [
      "Building potential\n",
      "y0 =  [    0.79     0.21     0.29     0.21      0.5]\n"
     ]
    }
   ],
   "source": [
    "pot = load_potential('binary_and_stoichiometric_2phase_elastic')"
   ]
  },
  {
   "cell_type": "code",
   "execution_count": 6,
   "metadata": {},
   "outputs": [
    {
     "name": "stderr",
     "output_type": "stream",
     "text": [
      "firedrake:WARNING OMP_NUM_THREADS is not set or is set to a value greater than 1, we suggest setting OMP_NUM_THREADS=1 to improve performance\n"
     ]
    }
   ],
   "source": [
    "from tools import *\n",
    "from thermo_potentials import load_potential\n"
   ]
  },
  {
   "cell_type": "code",
   "execution_count": 5,
   "metadata": {},
   "outputs": [
    {
     "name": "stdout",
     "output_type": "stream",
     "text": [
      "Building potential\n",
      "0\n",
      "1\n",
      "hello\n",
      "hello\n",
      "f =  -137600*c0 - 5972200*c1**2\n",
      "2\n",
      "3\n"
     ]
    },
    {
     "name": "stderr",
     "output_type": "stream",
     "text": [
      "<lambdifygenerated-25>:3: RuntimeWarning: invalid value encountered in log\n",
      "  return -137600*c0_a_a + c0_b_b*(11639.6*log(c0_b_b/(c0_b_b + c1_b_b)) - 3594.37) - 5972200*c1_a_a**2 + c1_b_b*(11639.6*log(c1_b_b/(c0_b_b + c1_b_b)) - 238888) + (500*c0_a_a + 500*c1_a_a)*log(V_a_a/(c0_a_a + c1_a_a))**2 + (500*c0_b_b + 500*c1_b_b)*log(V_b_b/(c0_b_b + c1_b_b))**2\n"
     ]
    },
    {
     "name": "stdout",
     "output_type": "stream",
     "text": [
      "y0 =  [     0.5      0.5     0.25     0.25     0.25     0.25]\n",
      "Warning: M is singular\n"
     ]
    },
    {
     "name": "stderr",
     "output_type": "stream",
     "text": [
      "/home/george/phase_field/thermo_potentials/systems/matrix_methods.py:70: RuntimeWarning: invalid value encountered in sqrt\n",
      "  svi = np.diag(M)**.5\n"
     ]
    },
    {
     "ename": "ValueError",
     "evalue": "array must not contain infs or NaNs",
     "output_type": "error",
     "traceback": [
      "\u001b[0;31m---------------------------------------------------------------------------\u001b[0m",
      "\u001b[0;31mValueError\u001b[0m                                Traceback (most recent call last)",
      "Cell \u001b[0;32mIn[5], line 1\u001b[0m\n\u001b[0;32m----> 1\u001b[0m ot \u001b[38;5;241m=\u001b[39m \u001b[43mload_potential\u001b[49m\u001b[43m(\u001b[49m\u001b[38;5;124;43m'\u001b[39;49m\u001b[38;5;124;43mquad_potential\u001b[39;49m\u001b[38;5;124;43m'\u001b[39;49m\u001b[43m)\u001b[49m\n",
      "File \u001b[0;32m~/phase_field/thermo_potentials/potentials.py:208\u001b[0m, in \u001b[0;36mload_potential\u001b[0;34m(file_name)\u001b[0m\n\u001b[1;32m    206\u001b[0m \u001b[38;5;28;01mfor\u001b[39;00m path \u001b[38;5;129;01min\u001b[39;00m paths:\n\u001b[1;32m    207\u001b[0m     file_path \u001b[38;5;241m=\u001b[39m join(path, file_name)\n\u001b[0;32m--> 208\u001b[0m     potential \u001b[38;5;241m=\u001b[39m \u001b[43mload_or_build_potential_from_file\u001b[49m\u001b[43m(\u001b[49m\u001b[43mfile_path\u001b[49m\u001b[43m)\u001b[49m\n\u001b[1;32m    209\u001b[0m     \u001b[38;5;28;01mif\u001b[39;00m potential \u001b[38;5;129;01mis\u001b[39;00m \u001b[38;5;129;01mnot\u001b[39;00m \u001b[38;5;28;01mNone\u001b[39;00m:\n\u001b[1;32m    210\u001b[0m         \u001b[38;5;28;01mreturn\u001b[39;00m potential\n",
      "File \u001b[0;32m~/phase_field/thermo_potentials/potentials.py:184\u001b[0m, in \u001b[0;36mload_potential.<locals>.load_or_build_potential_from_file\u001b[0;34m(file_name)\u001b[0m\n\u001b[1;32m    182\u001b[0m \u001b[38;5;28;01mif\u001b[39;00m isfile(file_name_py):\n\u001b[1;32m    183\u001b[0m     \u001b[38;5;28;01mif\u001b[39;00m \u001b[38;5;129;01mnot\u001b[39;00m isfile(file_name_saved) \u001b[38;5;129;01mor\u001b[39;00m getmtime(file_name_py) \u001b[38;5;241m>\u001b[39m getmtime(file_name_saved):\n\u001b[0;32m--> 184\u001b[0m         potential \u001b[38;5;241m=\u001b[39m \u001b[43mbuild_potential_from_file_path\u001b[49m\u001b[43m(\u001b[49m\u001b[43mfile_name_py\u001b[49m\u001b[43m)\u001b[49m\n\u001b[1;32m    185\u001b[0m         potential\u001b[38;5;241m.\u001b[39mwrite_to_file(file_name_saved)\n\u001b[1;32m    187\u001b[0m \u001b[38;5;66;03m#---->Check to ensure potential only being built on one rank. Needed?\u001b[39;00m\n\u001b[1;32m    188\u001b[0m \u001b[38;5;66;03m# from mpi4py import MPI\u001b[39;00m\n\u001b[1;32m    189\u001b[0m \u001b[38;5;66;03m# comm = MPI.COMM_WORLD\u001b[39;00m\n\u001b[0;32m   (...)\u001b[0m\n\u001b[1;32m    195\u001b[0m \u001b[38;5;66;03m#             potential.write_to_file(file_name_saved)\u001b[39;00m\n\u001b[1;32m    196\u001b[0m \u001b[38;5;66;03m# comm.barrier()\u001b[39;00m\n",
      "File \u001b[0;32m~/phase_field/thermo_potentials/potentials.py:172\u001b[0m, in \u001b[0;36mload_potential.<locals>.build_potential_from_file_path\u001b[0;34m(file_path)\u001b[0m\n\u001b[1;32m    170\u001b[0m spec\u001b[38;5;241m.\u001b[39mloader\u001b[38;5;241m.\u001b[39mexec_module(potential_file)\n\u001b[1;32m    171\u001b[0m \u001b[38;5;28mprint\u001b[39m(\u001b[38;5;124m'\u001b[39m\u001b[38;5;124mBuilding potential\u001b[39m\u001b[38;5;124m'\u001b[39m)\n\u001b[0;32m--> 172\u001b[0m \u001b[38;5;28;01mreturn\u001b[39;00m \u001b[43mpotential_file\u001b[49m\u001b[38;5;241;43m.\u001b[39;49m\u001b[43mbuild_potential\u001b[49m\u001b[43m(\u001b[49m\u001b[43m)\u001b[49m\n",
      "File \u001b[0;32m~/phase_field/thermo_potentials/common_systems/quad_potential.py:20\u001b[0m, in \u001b[0;36mbuild_potential\u001b[0;34m()\u001b[0m\n\u001b[1;32m     18\u001b[0m _, y0, _, _ \u001b[38;5;241m=\u001b[39m equil_partition\u001b[38;5;241m.\u001b[39mequil_partition(a_full,[\u001b[38;5;124m'\u001b[39m\u001b[38;5;124mc0\u001b[39m\u001b[38;5;124m'\u001b[39m, \u001b[38;5;124m'\u001b[39m\u001b[38;5;124mc1\u001b[39m\u001b[38;5;124m'\u001b[39m, \u001b[38;5;124m'\u001b[39m\u001b[38;5;124mV\u001b[39m\u001b[38;5;124m'\u001b[39m],[\u001b[38;5;241m1\u001b[39m\u001b[38;5;241m-\u001b[39mx, x, \u001b[38;5;241m1\u001b[39m])\n\u001b[1;32m     19\u001b[0m \u001b[38;5;28mprint\u001b[39m(\u001b[38;5;124m\"\u001b[39m\u001b[38;5;124my0 = \u001b[39m\u001b[38;5;124m\"\u001b[39m,y0)\n\u001b[0;32m---> 20\u001b[0m a_quad \u001b[38;5;241m=\u001b[39m \u001b[43mquadratic\u001b[49m\u001b[38;5;241;43m.\u001b[39;49m\u001b[43mquadratic_collection\u001b[49m\u001b[43m(\u001b[49m\u001b[43ma_full\u001b[49m\u001b[43m,\u001b[49m\u001b[43m \u001b[49m\u001b[43m[\u001b[49m\u001b[38;5;124;43m'\u001b[39;49m\u001b[38;5;124;43mc0\u001b[39;49m\u001b[38;5;124;43m'\u001b[39;49m\u001b[43m,\u001b[49m\u001b[43m \u001b[49m\u001b[38;5;124;43m'\u001b[39;49m\u001b[38;5;124;43mc1\u001b[39;49m\u001b[38;5;124;43m'\u001b[39;49m\u001b[43m,\u001b[49m\u001b[43m \u001b[49m\u001b[38;5;124;43m'\u001b[39;49m\u001b[38;5;124;43mV_a\u001b[39;49m\u001b[38;5;124;43m'\u001b[39;49m\u001b[43m,\u001b[49m\u001b[43m \u001b[49m\u001b[38;5;124;43m'\u001b[39;49m\u001b[38;5;124;43mV_b\u001b[39;49m\u001b[38;5;124;43m'\u001b[39;49m\u001b[43m]\u001b[49m\u001b[43m,\u001b[49m\u001b[43m \u001b[49m\u001b[43my0\u001b[49m\u001b[43m \u001b[49m\u001b[38;5;241;43m=\u001b[39;49m\u001b[43m \u001b[49m\u001b[43my0\u001b[49m\u001b[43m)\u001b[49m\n\u001b[1;32m     21\u001b[0m \u001b[38;5;28mprint\u001b[39m(\u001b[38;5;124m\"\u001b[39m\u001b[38;5;124ma_quad = \u001b[39m\u001b[38;5;124m\"\u001b[39m, a_quad)\n\u001b[1;32m     22\u001b[0m \u001b[38;5;28;01mreturn\u001b[39;00m a_quad\n",
      "File \u001b[0;32m~/phase_field/thermo_potentials/systems/quadratic.py:39\u001b[0m, in \u001b[0;36mquadratic_collection\u001b[0;34m(pot, vars_out, y0, x0)\u001b[0m\n\u001b[1;32m     37\u001b[0m mu0 \u001b[38;5;241m=\u001b[39m pot\u001b[38;5;241m.\u001b[39mgrad(y0)\n\u001b[1;32m     38\u001b[0m B \u001b[38;5;241m=\u001b[39m pot\u001b[38;5;241m.\u001b[39mhess(y0)\n\u001b[0;32m---> 39\u001b[0m fun_quad, response, minimizer, G \u001b[38;5;241m=\u001b[39m \u001b[43msolve_KKT\u001b[49m\u001b[43m(\u001b[49m\u001b[43mB\u001b[49m\u001b[43m,\u001b[49m\u001b[43m \u001b[49m\u001b[43mA\u001b[49m\u001b[43m,\u001b[49m\u001b[43m \u001b[49m\u001b[43mmu0\u001b[49m\u001b[43m)\u001b[49m\n\u001b[1;32m     41\u001b[0m \u001b[38;5;66;03m#fcn_s = sp.simplify(fcn_s)\u001b[39;00m\n\u001b[1;32m     42\u001b[0m \u001b[38;5;66;03m# if fcn_s is symbolic - auto recreate Jac and Hes or just calculate directly?\u001b[39;00m\n\u001b[1;32m     45\u001b[0m expansion_point \u001b[38;5;241m=\u001b[39m \u001b[38;5;28mdict\u001b[39m(\u001b[38;5;28mzip\u001b[39m(pot\u001b[38;5;241m.\u001b[39mvars, y0))\n",
      "File \u001b[0;32m~/phase_field/thermo_potentials/systems/matrix_methods.py:120\u001b[0m, in \u001b[0;36msolve_KKT\u001b[0;34m(B, A, b, method, scale)\u001b[0m\n\u001b[1;32m    118\u001b[0m     S, Ms \u001b[38;5;241m=\u001b[39m diag_scale(M)\n\u001b[1;32m    119\u001b[0m     \u001b[38;5;66;03m#Mis, _, _, _ = la.lstsq(Ms, np.identity(M.shape[0])) # Most general case. Mi = inv(Mi) when full rank. pseudoinverse when not full rank.\u001b[39;00m\n\u001b[0;32m--> 120\u001b[0m     Mis \u001b[38;5;241m=\u001b[39m \u001b[43mla\u001b[49m\u001b[38;5;241;43m.\u001b[39;49m\u001b[43msolve\u001b[49m\u001b[43m(\u001b[49m\u001b[43mMs\u001b[49m\u001b[43m,\u001b[49m\u001b[43m \u001b[49m\u001b[43mnp\u001b[49m\u001b[38;5;241;43m.\u001b[39;49m\u001b[43midentity\u001b[49m\u001b[43m(\u001b[49m\u001b[43mM\u001b[49m\u001b[38;5;241;43m.\u001b[39;49m\u001b[43mshape\u001b[49m\u001b[43m[\u001b[49m\u001b[38;5;241;43m0\u001b[39;49m\u001b[43m]\u001b[49m\u001b[43m)\u001b[49m\u001b[43m,\u001b[49m\u001b[43massume_a\u001b[49m\u001b[38;5;241;43m=\u001b[39;49m\u001b[38;5;124;43m'\u001b[39;49m\u001b[38;5;124;43msym\u001b[39;49m\u001b[38;5;124;43m'\u001b[39;49m\u001b[43m)\u001b[49m\n\u001b[1;32m    121\u001b[0m     Mi \u001b[38;5;241m=\u001b[39m S\u001b[38;5;241m.\u001b[39mT\u001b[38;5;129m@Mis\u001b[39m\u001b[38;5;129m@S\u001b[39m\n\u001b[1;32m    122\u001b[0m \u001b[38;5;28;01melse\u001b[39;00m:\n",
      "File \u001b[0;32m~/firedrake/lib/python3.10/site-packages/scipy/linalg/_basic.py:148\u001b[0m, in \u001b[0;36msolve\u001b[0;34m(a, b, lower, overwrite_a, overwrite_b, check_finite, assume_a, transposed)\u001b[0m\n\u001b[1;32m    145\u001b[0m \u001b[38;5;66;03m# Flags for 1-D or N-D right-hand side\u001b[39;00m\n\u001b[1;32m    146\u001b[0m b_is_1D \u001b[38;5;241m=\u001b[39m \u001b[38;5;28;01mFalse\u001b[39;00m\n\u001b[0;32m--> 148\u001b[0m a1 \u001b[38;5;241m=\u001b[39m atleast_2d(\u001b[43m_asarray_validated\u001b[49m\u001b[43m(\u001b[49m\u001b[43ma\u001b[49m\u001b[43m,\u001b[49m\u001b[43m \u001b[49m\u001b[43mcheck_finite\u001b[49m\u001b[38;5;241;43m=\u001b[39;49m\u001b[43mcheck_finite\u001b[49m\u001b[43m)\u001b[49m)\n\u001b[1;32m    149\u001b[0m b1 \u001b[38;5;241m=\u001b[39m atleast_1d(_asarray_validated(b, check_finite\u001b[38;5;241m=\u001b[39mcheck_finite))\n\u001b[1;32m    150\u001b[0m n \u001b[38;5;241m=\u001b[39m a1\u001b[38;5;241m.\u001b[39mshape[\u001b[38;5;241m0\u001b[39m]\n",
      "File \u001b[0;32m~/firedrake/lib/python3.10/site-packages/scipy/_lib/_util.py:240\u001b[0m, in \u001b[0;36m_asarray_validated\u001b[0;34m(a, check_finite, sparse_ok, objects_ok, mask_ok, as_inexact)\u001b[0m\n\u001b[1;32m    238\u001b[0m         \u001b[38;5;28;01mraise\u001b[39;00m \u001b[38;5;167;01mValueError\u001b[39;00m(\u001b[38;5;124m'\u001b[39m\u001b[38;5;124mmasked arrays are not supported\u001b[39m\u001b[38;5;124m'\u001b[39m)\n\u001b[1;32m    239\u001b[0m toarray \u001b[38;5;241m=\u001b[39m np\u001b[38;5;241m.\u001b[39masarray_chkfinite \u001b[38;5;28;01mif\u001b[39;00m check_finite \u001b[38;5;28;01melse\u001b[39;00m np\u001b[38;5;241m.\u001b[39masarray\n\u001b[0;32m--> 240\u001b[0m a \u001b[38;5;241m=\u001b[39m \u001b[43mtoarray\u001b[49m\u001b[43m(\u001b[49m\u001b[43ma\u001b[49m\u001b[43m)\u001b[49m\n\u001b[1;32m    241\u001b[0m \u001b[38;5;28;01mif\u001b[39;00m \u001b[38;5;129;01mnot\u001b[39;00m objects_ok:\n\u001b[1;32m    242\u001b[0m     \u001b[38;5;28;01mif\u001b[39;00m a\u001b[38;5;241m.\u001b[39mdtype \u001b[38;5;129;01mis\u001b[39;00m np\u001b[38;5;241m.\u001b[39mdtype(\u001b[38;5;124m'\u001b[39m\u001b[38;5;124mO\u001b[39m\u001b[38;5;124m'\u001b[39m):\n",
      "File \u001b[0;32m~/firedrake/lib/python3.10/site-packages/numpy/lib/function_base.py:628\u001b[0m, in \u001b[0;36masarray_chkfinite\u001b[0;34m(a, dtype, order)\u001b[0m\n\u001b[1;32m    626\u001b[0m a \u001b[38;5;241m=\u001b[39m asarray(a, dtype\u001b[38;5;241m=\u001b[39mdtype, order\u001b[38;5;241m=\u001b[39morder)\n\u001b[1;32m    627\u001b[0m \u001b[38;5;28;01mif\u001b[39;00m a\u001b[38;5;241m.\u001b[39mdtype\u001b[38;5;241m.\u001b[39mchar \u001b[38;5;129;01min\u001b[39;00m typecodes[\u001b[38;5;124m'\u001b[39m\u001b[38;5;124mAllFloat\u001b[39m\u001b[38;5;124m'\u001b[39m] \u001b[38;5;129;01mand\u001b[39;00m \u001b[38;5;129;01mnot\u001b[39;00m np\u001b[38;5;241m.\u001b[39misfinite(a)\u001b[38;5;241m.\u001b[39mall():\n\u001b[0;32m--> 628\u001b[0m     \u001b[38;5;28;01mraise\u001b[39;00m \u001b[38;5;167;01mValueError\u001b[39;00m(\n\u001b[1;32m    629\u001b[0m         \u001b[38;5;124m\"\u001b[39m\u001b[38;5;124marray must not contain infs or NaNs\u001b[39m\u001b[38;5;124m\"\u001b[39m)\n\u001b[1;32m    630\u001b[0m \u001b[38;5;28;01mreturn\u001b[39;00m a\n",
      "\u001b[0;31mValueError\u001b[0m: array must not contain infs or NaNs"
     ]
    }
   ],
   "source": [
    "ot = load_potential('quad_potential')"
   ]
  },
  {
   "cell_type": "code",
   "execution_count": 6,
   "metadata": {},
   "outputs": [
    {
     "name": "stdout",
     "output_type": "stream",
     "text": [
      "hello\n",
      "hello\n",
      "f =  -137600*c0 - 5972200*c1**2\n"
     ]
    },
    {
     "data": {
      "text/plain": [
       "<thermo_potentials.potentials.sympy_potential at 0x7f2c04f5e020>"
      ]
     },
     "execution_count": 6,
     "metadata": {},
     "output_type": "execute_result"
    }
   ],
   "source": [
    "from thermo_potentials.phases.sympy_components import  build_deposit_quad\n",
    "build_deposit_quad([-137600,-238888], T = 1400 , rho = 1, kappa = 1000, phase_id = \"a\")"
   ]
  },
  {
   "cell_type": "code",
   "execution_count": 15,
   "metadata": {},
   "outputs": [],
   "source": [
    "from sympy import symbols, ln, Matrix, zeros, ones\n",
    "from thermo_potentials import sympy_potential\n",
    "\n",
    "mu0 = [-137600]\n",
    "T = 1400\n",
    "rho = 1\n",
    "kappa = 1000\n",
    "phase_id = \"a\"\n",
    "vi = None\n"
   ]
  },
  {
   "cell_type": "code",
   "execution_count": 16,
   "metadata": {},
   "outputs": [
    {
     "name": "stdout",
     "output_type": "stream",
     "text": [
      "cs0 =  Matrix([[c0]])\n",
      "hello\n"
     ]
    },
    {
     "ename": "IndexError",
     "evalue": "list index out of range",
     "output_type": "error",
     "traceback": [
      "\u001b[0;31m---------------------------------------------------------------------------\u001b[0m",
      "\u001b[0;31mIndexError\u001b[0m                                Traceback (most recent call last)",
      "Cell \u001b[0;32mIn[16], line 7\u001b[0m\n\u001b[1;32m      5\u001b[0m V \u001b[38;5;241m=\u001b[39m symbols(\u001b[38;5;124m'\u001b[39m\u001b[38;5;124mV\u001b[39m\u001b[38;5;124m'\u001b[39m)\n\u001b[1;32m      6\u001b[0m \u001b[38;5;28mprint\u001b[39m(\u001b[38;5;124m\"\u001b[39m\u001b[38;5;124mhello\u001b[39m\u001b[38;5;124m\"\u001b[39m)\n\u001b[0;32m----> 7\u001b[0m f \u001b[38;5;241m=\u001b[39m mu0[\u001b[38;5;241m0\u001b[39m]\u001b[38;5;241m*\u001b[39mcs[\u001b[38;5;241m0\u001b[39m] \u001b[38;5;241m+\u001b[39m \u001b[43mmu0\u001b[49m\u001b[43m[\u001b[49m\u001b[38;5;241;43m1\u001b[39;49m\u001b[43m]\u001b[49m\u001b[38;5;241m*\u001b[39m(\u001b[38;5;241m5\u001b[39m\u001b[38;5;241m*\u001b[39mcs[\u001b[38;5;241m1\u001b[39m])\u001b[38;5;241m*\u001b[39m\u001b[38;5;241m*\u001b[39m\u001b[38;5;241m2\u001b[39m\n\u001b[1;32m      8\u001b[0m \u001b[38;5;28mprint\u001b[39m(\u001b[38;5;124m\"\u001b[39m\u001b[38;5;124mhello\u001b[39m\u001b[38;5;124m\"\u001b[39m)\n\u001b[1;32m      9\u001b[0m \u001b[38;5;28mprint\u001b[39m(\u001b[38;5;124m\"\u001b[39m\u001b[38;5;124mf = \u001b[39m\u001b[38;5;124m\"\u001b[39m, f)\n",
      "\u001b[0;31mIndexError\u001b[0m: list index out of range"
     ]
    }
   ],
   "source": [
    "n = len(mu0)\n",
    "\n",
    "cs = Matrix(symbols('c:{}'.format(n)))\n",
    "print(\"cs0 = \", cs)\n",
    "V = symbols('V')\n",
    "print(\"hello\")\n",
    "f = mu0[0]*cs[0] + mu0[1]*(5*cs[1])**2\n",
    "print(\"hello\")\n",
    "print(\"f = \", f)\n",
    "if kappa is not None:\n",
    "    # kappa is provided, apply a neo-Hookean elasticity model\n",
    "    if vi is None:\n",
    "        #If no vi is entered, take 1/rho\n",
    "        vi = 1/rho\n",
    "    f += add_hyperelastic(kappa, vi, cs, V)\n",
    "#if kappa is None by vi is not None\n",
    "# Implement lattice constraint"
   ]
  },
  {
   "cell_type": "code",
   "execution_count": 4,
   "metadata": {},
   "outputs": [
    {
     "name": "stdout",
     "output_type": "stream",
     "text": [
      "0\n",
      "ideal f =  c0*(10808.2*log(c0/(c0 + c1)) - 10479) + c1*(10808.2*log(c1/(c0 + c1)) - 22026) + 25000\n",
      "1\n",
      "ideal f =  25000 - 12968*c0\n",
      "2\n",
      "3\n"
     ]
    }
   ],
   "source": [
    "from thermo_potentials.systems import equil_partition, quadratic\n",
    "from thermo_potentials.systems.collections import collect_sympy_phases\n",
    "from thermo_potentials.phases.sympy_components import build_ideal_solution_elastic, build_deposit_quad\n",
    "\n",
    "\n",
    "    \n",
    "# a_b = build_ideal_solution_elastic([-3594.37,-238888], rho = 1, kappa = 1000, phase_id = \"b\")\n",
    "#a_b = build_ideal_solution_elastic([184014,-238888], rho = 1, kappa = 1000, phase_id = \"b\")\n",
    "print(\"0\")\n",
    "a_b = build_ideal_solution_elastic([-10479,-22026], T = 1300 ,rho = 1, kappa = 1000, phase_id = \"b\")\n",
    "print(\"1\")\n",
    "#a_a = build_deposit_quad([-12968,-22026], T = 1300 , rho = 1, kappa = 1000, phase_id = \"a\")\n",
    "\n",
    "a_a = build_ideal_solution_elastic([-12968], T =1300, rho = 1, kappa = 1000, phase_id = \"b\")\n",
    "\n",
    "# a_b = build_ideal_solution_elastic([-6097,-4645] ,rho = 1, kappa = 1000, phase_id = \"b\")\n",
    "\n",
    "# a_a = build_deposit_quad([-7820,-4645], rho = 1, kappa = 1000, phase_id = \"a\")\n",
    "    \n",
    "print(\"2\")\n",
    "\n",
    "a_full = collect_sympy_phases([a_a, a_b], rename=True)\n",
    "print(\"3\")\n",
    "x = .5"
   ]
  },
  {
   "cell_type": "code",
   "execution_count": 5,
   "metadata": {},
   "outputs": [
    {
     "name": "stderr",
     "output_type": "stream",
     "text": [
      "<lambdifygenerated-16>:3: RuntimeWarning: invalid value encountered in log\n",
      "  return 500*c0_b_a*log(V_b_a/c0_b_a)**2 - 12968*c0_b_a + c0_b_b*(10808.2*log(c0_b_b/(c0_b_b + c1_b_b)) - 10479) + c1_b_b*(10808.2*log(c1_b_b/(c0_b_b + c1_b_b)) - 22026) + (500*c0_b_b + 500*c1_b_b)*log(V_b_b/(c0_b_b + c1_b_b))**2 + 50000\n"
     ]
    }
   ],
   "source": [
    "_, y0, _, _ = equil_partition.equil_partition(a_full,['c0', 'c1', 'V'],[1-x, x, 1])\n",
    "    \n",
    "\n"
   ]
  },
  {
   "cell_type": "code",
   "execution_count": 6,
   "metadata": {},
   "outputs": [
    {
     "data": {
      "text/plain": [
       "array([0.36035395, 0.88189943, 0.28337411, 0.58000572, 0.62112669])"
      ]
     },
     "execution_count": 6,
     "metadata": {},
     "output_type": "execute_result"
    }
   ],
   "source": [
    "y0"
   ]
  },
  {
   "cell_type": "code",
   "execution_count": 4,
   "metadata": {},
   "outputs": [
    {
     "name": "stdout",
     "output_type": "stream",
     "text": [
      "Warning: M is singular\n"
     ]
    },
    {
     "name": "stderr",
     "output_type": "stream",
     "text": [
      "/home/george/phase_field/thermo_potentials/systems/matrix_methods.py:70: RuntimeWarning: invalid value encountered in sqrt\n",
      "  svi = np.diag(M)**.5\n"
     ]
    },
    {
     "ename": "ValueError",
     "evalue": "array must not contain infs or NaNs",
     "output_type": "error",
     "traceback": [
      "\u001b[0;31m---------------------------------------------------------------------------\u001b[0m",
      "\u001b[0;31mValueError\u001b[0m                                Traceback (most recent call last)",
      "Cell \u001b[0;32mIn[4], line 1\u001b[0m\n\u001b[0;32m----> 1\u001b[0m a_quad \u001b[38;5;241m=\u001b[39m \u001b[43mquadratic\u001b[49m\u001b[38;5;241;43m.\u001b[39;49m\u001b[43mquadratic_collection\u001b[49m\u001b[43m(\u001b[49m\u001b[43ma_full\u001b[49m\u001b[43m,\u001b[49m\u001b[43m \u001b[49m\u001b[43m[\u001b[49m\u001b[38;5;124;43m'\u001b[39;49m\u001b[38;5;124;43mc0\u001b[39;49m\u001b[38;5;124;43m'\u001b[39;49m\u001b[43m,\u001b[49m\u001b[43m \u001b[49m\u001b[38;5;124;43m'\u001b[39;49m\u001b[38;5;124;43mc1\u001b[39;49m\u001b[38;5;124;43m'\u001b[39;49m\u001b[43m,\u001b[49m\u001b[43m \u001b[49m\u001b[38;5;124;43m'\u001b[39;49m\u001b[38;5;124;43mV_a\u001b[39;49m\u001b[38;5;124;43m'\u001b[39;49m\u001b[43m,\u001b[49m\u001b[43m \u001b[49m\u001b[38;5;124;43m'\u001b[39;49m\u001b[38;5;124;43mV_b\u001b[39;49m\u001b[38;5;124;43m'\u001b[39;49m\u001b[43m]\u001b[49m\u001b[43m,\u001b[49m\u001b[43m \u001b[49m\u001b[43my0\u001b[49m\u001b[43m \u001b[49m\u001b[38;5;241;43m=\u001b[39;49m\u001b[43m \u001b[49m\u001b[43my0\u001b[49m\u001b[43m)\u001b[49m\n",
      "File \u001b[0;32m~/phase_field/thermo_potentials/systems/quadratic.py:39\u001b[0m, in \u001b[0;36mquadratic_collection\u001b[0;34m(pot, vars_out, y0, x0)\u001b[0m\n\u001b[1;32m     37\u001b[0m mu0 \u001b[38;5;241m=\u001b[39m pot\u001b[38;5;241m.\u001b[39mgrad(y0)\n\u001b[1;32m     38\u001b[0m B \u001b[38;5;241m=\u001b[39m pot\u001b[38;5;241m.\u001b[39mhess(y0)\n\u001b[0;32m---> 39\u001b[0m fun_quad, response, minimizer, G \u001b[38;5;241m=\u001b[39m \u001b[43msolve_KKT\u001b[49m\u001b[43m(\u001b[49m\u001b[43mB\u001b[49m\u001b[43m,\u001b[49m\u001b[43m \u001b[49m\u001b[43mA\u001b[49m\u001b[43m,\u001b[49m\u001b[43m \u001b[49m\u001b[43mmu0\u001b[49m\u001b[43m)\u001b[49m\n\u001b[1;32m     41\u001b[0m \u001b[38;5;66;03m#fcn_s = sp.simplify(fcn_s)\u001b[39;00m\n\u001b[1;32m     42\u001b[0m \u001b[38;5;66;03m# if fcn_s is symbolic - auto recreate Jac and Hes or just calculate directly?\u001b[39;00m\n\u001b[1;32m     45\u001b[0m expansion_point \u001b[38;5;241m=\u001b[39m \u001b[38;5;28mdict\u001b[39m(\u001b[38;5;28mzip\u001b[39m(pot\u001b[38;5;241m.\u001b[39mvars, y0))\n",
      "File \u001b[0;32m~/phase_field/thermo_potentials/systems/matrix_methods.py:120\u001b[0m, in \u001b[0;36msolve_KKT\u001b[0;34m(B, A, b, method, scale)\u001b[0m\n\u001b[1;32m    118\u001b[0m     S, Ms \u001b[38;5;241m=\u001b[39m diag_scale(M)\n\u001b[1;32m    119\u001b[0m     \u001b[38;5;66;03m#Mis, _, _, _ = la.lstsq(Ms, np.identity(M.shape[0])) # Most general case. Mi = inv(Mi) when full rank. pseudoinverse when not full rank.\u001b[39;00m\n\u001b[0;32m--> 120\u001b[0m     Mis \u001b[38;5;241m=\u001b[39m \u001b[43mla\u001b[49m\u001b[38;5;241;43m.\u001b[39;49m\u001b[43msolve\u001b[49m\u001b[43m(\u001b[49m\u001b[43mMs\u001b[49m\u001b[43m,\u001b[49m\u001b[43m \u001b[49m\u001b[43mnp\u001b[49m\u001b[38;5;241;43m.\u001b[39;49m\u001b[43midentity\u001b[49m\u001b[43m(\u001b[49m\u001b[43mM\u001b[49m\u001b[38;5;241;43m.\u001b[39;49m\u001b[43mshape\u001b[49m\u001b[43m[\u001b[49m\u001b[38;5;241;43m0\u001b[39;49m\u001b[43m]\u001b[49m\u001b[43m)\u001b[49m\u001b[43m,\u001b[49m\u001b[43massume_a\u001b[49m\u001b[38;5;241;43m=\u001b[39;49m\u001b[38;5;124;43m'\u001b[39;49m\u001b[38;5;124;43msym\u001b[39;49m\u001b[38;5;124;43m'\u001b[39;49m\u001b[43m)\u001b[49m\n\u001b[1;32m    121\u001b[0m     Mi \u001b[38;5;241m=\u001b[39m S\u001b[38;5;241m.\u001b[39mT\u001b[38;5;129m@Mis\u001b[39m\u001b[38;5;129m@S\u001b[39m\n\u001b[1;32m    122\u001b[0m \u001b[38;5;28;01melse\u001b[39;00m:\n",
      "File \u001b[0;32m~/firedrake/lib/python3.10/site-packages/scipy/linalg/_basic.py:148\u001b[0m, in \u001b[0;36msolve\u001b[0;34m(a, b, lower, overwrite_a, overwrite_b, check_finite, assume_a, transposed)\u001b[0m\n\u001b[1;32m    145\u001b[0m \u001b[38;5;66;03m# Flags for 1-D or N-D right-hand side\u001b[39;00m\n\u001b[1;32m    146\u001b[0m b_is_1D \u001b[38;5;241m=\u001b[39m \u001b[38;5;28;01mFalse\u001b[39;00m\n\u001b[0;32m--> 148\u001b[0m a1 \u001b[38;5;241m=\u001b[39m atleast_2d(\u001b[43m_asarray_validated\u001b[49m\u001b[43m(\u001b[49m\u001b[43ma\u001b[49m\u001b[43m,\u001b[49m\u001b[43m \u001b[49m\u001b[43mcheck_finite\u001b[49m\u001b[38;5;241;43m=\u001b[39;49m\u001b[43mcheck_finite\u001b[49m\u001b[43m)\u001b[49m)\n\u001b[1;32m    149\u001b[0m b1 \u001b[38;5;241m=\u001b[39m atleast_1d(_asarray_validated(b, check_finite\u001b[38;5;241m=\u001b[39mcheck_finite))\n\u001b[1;32m    150\u001b[0m n \u001b[38;5;241m=\u001b[39m a1\u001b[38;5;241m.\u001b[39mshape[\u001b[38;5;241m0\u001b[39m]\n",
      "File \u001b[0;32m~/firedrake/lib/python3.10/site-packages/scipy/_lib/_util.py:240\u001b[0m, in \u001b[0;36m_asarray_validated\u001b[0;34m(a, check_finite, sparse_ok, objects_ok, mask_ok, as_inexact)\u001b[0m\n\u001b[1;32m    238\u001b[0m         \u001b[38;5;28;01mraise\u001b[39;00m \u001b[38;5;167;01mValueError\u001b[39;00m(\u001b[38;5;124m'\u001b[39m\u001b[38;5;124mmasked arrays are not supported\u001b[39m\u001b[38;5;124m'\u001b[39m)\n\u001b[1;32m    239\u001b[0m toarray \u001b[38;5;241m=\u001b[39m np\u001b[38;5;241m.\u001b[39masarray_chkfinite \u001b[38;5;28;01mif\u001b[39;00m check_finite \u001b[38;5;28;01melse\u001b[39;00m np\u001b[38;5;241m.\u001b[39masarray\n\u001b[0;32m--> 240\u001b[0m a \u001b[38;5;241m=\u001b[39m \u001b[43mtoarray\u001b[49m\u001b[43m(\u001b[49m\u001b[43ma\u001b[49m\u001b[43m)\u001b[49m\n\u001b[1;32m    241\u001b[0m \u001b[38;5;28;01mif\u001b[39;00m \u001b[38;5;129;01mnot\u001b[39;00m objects_ok:\n\u001b[1;32m    242\u001b[0m     \u001b[38;5;28;01mif\u001b[39;00m a\u001b[38;5;241m.\u001b[39mdtype \u001b[38;5;129;01mis\u001b[39;00m np\u001b[38;5;241m.\u001b[39mdtype(\u001b[38;5;124m'\u001b[39m\u001b[38;5;124mO\u001b[39m\u001b[38;5;124m'\u001b[39m):\n",
      "File \u001b[0;32m~/firedrake/lib/python3.10/site-packages/numpy/lib/function_base.py:628\u001b[0m, in \u001b[0;36masarray_chkfinite\u001b[0;34m(a, dtype, order)\u001b[0m\n\u001b[1;32m    626\u001b[0m a \u001b[38;5;241m=\u001b[39m asarray(a, dtype\u001b[38;5;241m=\u001b[39mdtype, order\u001b[38;5;241m=\u001b[39morder)\n\u001b[1;32m    627\u001b[0m \u001b[38;5;28;01mif\u001b[39;00m a\u001b[38;5;241m.\u001b[39mdtype\u001b[38;5;241m.\u001b[39mchar \u001b[38;5;129;01min\u001b[39;00m typecodes[\u001b[38;5;124m'\u001b[39m\u001b[38;5;124mAllFloat\u001b[39m\u001b[38;5;124m'\u001b[39m] \u001b[38;5;129;01mand\u001b[39;00m \u001b[38;5;129;01mnot\u001b[39;00m np\u001b[38;5;241m.\u001b[39misfinite(a)\u001b[38;5;241m.\u001b[39mall():\n\u001b[0;32m--> 628\u001b[0m     \u001b[38;5;28;01mraise\u001b[39;00m \u001b[38;5;167;01mValueError\u001b[39;00m(\n\u001b[1;32m    629\u001b[0m         \u001b[38;5;124m\"\u001b[39m\u001b[38;5;124marray must not contain infs or NaNs\u001b[39m\u001b[38;5;124m\"\u001b[39m)\n\u001b[1;32m    630\u001b[0m \u001b[38;5;28;01mreturn\u001b[39;00m a\n",
      "\u001b[0;31mValueError\u001b[0m: array must not contain infs or NaNs"
     ]
    }
   ],
   "source": [
    "a_quad = quadratic.quadratic_collection(a_full, ['c0', 'c1', 'V_a', 'V_b'], y0 = y0)\n",
    "    "
   ]
  },
  {
   "cell_type": "code",
   "execution_count": null,
   "metadata": {},
   "outputs": [],
   "source": []
  }
 ],
 "metadata": {
  "kernelspec": {
   "display_name": "firedrake",
   "language": "python",
   "name": "python3"
  },
  "language_info": {
   "codemirror_mode": {
    "name": "ipython",
    "version": 3
   },
   "file_extension": ".py",
   "mimetype": "text/x-python",
   "name": "python",
   "nbconvert_exporter": "python",
   "pygments_lexer": "ipython3",
   "version": "3.10.12"
  }
 },
 "nbformat": 4,
 "nbformat_minor": 2
}
