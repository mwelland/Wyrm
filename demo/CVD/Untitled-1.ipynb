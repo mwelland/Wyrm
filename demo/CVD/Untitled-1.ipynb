{
 "cells": [
  {
   "cell_type": "code",
   "execution_count": 2,
   "metadata": {},
   "outputs": [
    {
     "ename": "ModuleNotFoundError",
     "evalue": "No module named 'potentials'",
     "output_type": "error",
     "traceback": [
      "\u001b[0;31m---------------------------------------------------------------------------\u001b[0m",
      "\u001b[0;31mModuleNotFoundError\u001b[0m                       Traceback (most recent call last)",
      "\u001b[1;32m/home/george/phase_field/Wyrm/demo/CVD/Untitled-1.ipynb Cell 1\u001b[0m line \u001b[0;36m1\n\u001b[0;32m----> <a href='vscode-notebook-cell:/home/george/phase_field/Wyrm/demo/CVD/Untitled-1.ipynb#W0sZmlsZQ%3D%3D?line=0'>1</a>\u001b[0m \u001b[39mimport\u001b[39;00m \u001b[39mpotentials\u001b[39;00m \u001b[39mas\u001b[39;00m \u001b[39mtp\u001b[39;00m\n\u001b[1;32m      <a href='vscode-notebook-cell:/home/george/phase_field/Wyrm/demo/CVD/Untitled-1.ipynb#W0sZmlsZQ%3D%3D?line=1'>2</a>\u001b[0m pot \u001b[39m=\u001b[39m tp\u001b[39m.\u001b[39mload_potential(\u001b[39m'\u001b[39m\u001b[39mbinary_2phase_elastic\u001b[39m\u001b[39m'\u001b[39m)\n",
      "\u001b[0;31mModuleNotFoundError\u001b[0m: No module named 'potentials'"
     ]
    }
   ],
   "source": [
    "\n",
    "import thermo_potentials as tp\n",
    "pot = tp.load_potential('binary_2phase_elastic')"
   ]
  },
  {
   "cell_type": "code",
   "execution_count": 1,
   "metadata": {},
   "outputs": [
    {
     "name": "stderr",
     "output_type": "stream",
     "text": [
      "firedrake:WARNING OMP_NUM_THREADS is not set or is set to a value greater than 1, we suggest setting OMP_NUM_THREADS=1 to improve performance\n"
     ]
    }
   ],
   "source": [
    "from firedrake import *\n",
    "from firedrake.petsc import PETSc"
   ]
  },
  {
   "cell_type": "code",
   "execution_count": 10,
   "metadata": {},
   "outputs": [],
   "source": [
    "# Setup parameters\n",
    "L = 1.0\n",
    "N = 32\n",
    "dt = 0.01\n",
    "T = 0.5\n",
    "nu = 0.01\n",
    "\n",
    "# Define mesh and function space\n",
    "mesh = UnitSquareMesh(N, N)\n",
    "V_phi = FunctionSpace(mesh, \"CG\",1)\n",
    "V_rho = FunctionSpace(mesh, \"CG\", 1)\n",
    "V = MixedFunctionSpace([V_phi, V_rho])"
   ]
  },
  {
   "cell_type": "code",
   "execution_count": 11,
   "metadata": {},
   "outputs": [],
   "source": [
    "# Define the coupled Allen-Cahn equations\n",
    "u,v = TrialFunctions(V)\n",
    "phi, psi = TestFunctions(V)"
   ]
  },
  {
   "cell_type": "code",
   "execution_count": null,
   "metadata": {},
   "outputs": [],
   "source": []
  },
  {
   "cell_type": "code",
   "execution_count": 1,
   "metadata": {},
   "outputs": [
    {
     "name": "stderr",
     "output_type": "stream",
     "text": [
      "firedrake:WARNING OMP_NUM_THREADS is not set or is set to a value greater than 1, we suggest setting OMP_NUM_THREADS=1 to improve performance\n"
     ]
    },
    {
     "ename": "NameError",
     "evalue": "name 'Expression' is not defined",
     "output_type": "error",
     "traceback": [
      "\u001b[0;31m---------------------------------------------------------------------------\u001b[0m",
      "\u001b[0;31mNameError\u001b[0m                                 Traceback (most recent call last)",
      "Cell \u001b[0;32mIn[1], line 5\u001b[0m\n\u001b[1;32m      2\u001b[0m \u001b[38;5;28;01mfrom\u001b[39;00m \u001b[38;5;21;01mfiredrake\u001b[39;00m \u001b[38;5;28;01mimport\u001b[39;00m \u001b[38;5;241m*\u001b[39m\n\u001b[1;32m      4\u001b[0m \u001b[38;5;66;03m# Class representing the intial conditions\u001b[39;00m\n\u001b[0;32m----> 5\u001b[0m \u001b[38;5;28;01mclass\u001b[39;00m \u001b[38;5;21;01mInitialConditions\u001b[39;00m(\u001b[43mExpression\u001b[49m):\n\u001b[1;32m      6\u001b[0m     \u001b[38;5;28;01mdef\u001b[39;00m \u001b[38;5;21m__init__\u001b[39m(\u001b[38;5;28mself\u001b[39m):\n\u001b[1;32m      7\u001b[0m         random\u001b[38;5;241m.\u001b[39mseed(\u001b[38;5;241m2\u001b[39m \u001b[38;5;241m+\u001b[39m MPI\u001b[38;5;241m.\u001b[39mprocess_number())\n",
      "\u001b[0;31mNameError\u001b[0m: name 'Expression' is not defined"
     ]
    }
   ],
   "source": [
    "import random\n",
    "from firedrake import *\n",
    "\n",
    "# Class representing the intial conditions\n",
    "# class InitialConditions(Expression):\n",
    "#     def __init__(self):\n",
    "#         random.seed(2 + MPI.process_number())\n",
    "#     def eval(self, values, x):\n",
    "#         values[0] = 0.63 + 0.02*(0.5 - random.random())\n",
    "#         values[1] = 0.0\n",
    "#     def value_shape(self):\n",
    "#         return (2,)\n",
    "\n",
    "# Class for interfacing with the Newton solver\n",
    "class CahnHilliardEquation(NonlinearProblem):\n",
    "    def __init__(self, a, L):\n",
    "        NonlinearProblem.__init__(self)\n",
    "        self.L = L\n",
    "        self.a = a\n",
    "        self.reset_sparsity = True\n",
    "    def F(self, b, x):\n",
    "        assemble(self.L, tensor=b)\n",
    "    def J(self, A, x):\n",
    "        assemble(self.a, tensor=A, reset_sparsity=self.reset_sparsity)\n",
    "        self.reset_sparsity = False\n",
    "\n",
    "# Model parameters\n",
    "lmbda  = 1.0e-02  # surface parameter\n",
    "dt     = 5.0e-06  # time step\n",
    "theta  = 0.5      # time stepping family, e.g. theta=1 -> backward Euler, theta=0.5 -> Crank-Nicolson\n",
    "\n",
    "# Form compiler options\n",
    "parameters[\"form_compiler\"][\"optimize\"]     = True\n",
    "parameters[\"form_compiler\"][\"cpp_optimize\"] = True\n",
    "parameters[\"form_compiler\"][\"representation\"] = \"quadrature\"\n",
    "\n",
    "# Create mesh and define function spaces\n",
    "mesh = UnitSquareMesh(96, 96)\n",
    "V = FunctionSpace(mesh, \"Lagrange\", 1)\n",
    "ME = V*V"
   ]
  },
  {
   "cell_type": "code",
   "execution_count": 2,
   "metadata": {},
   "outputs": [
    {
     "name": "stdout",
     "output_type": "stream",
     "text": [
      "Using 4 levels of refinement\n",
      "Mesh hierarchy assembled\n"
     ]
    },
    {
     "ename": "AttributeError",
     "evalue": "'int' object has no attribute 'grad'",
     "output_type": "error",
     "traceback": [
      "\u001b[0;31m---------------------------------------------------------------------------\u001b[0m",
      "\u001b[0;31mAttributeError\u001b[0m                            Traceback (most recent call last)",
      "Cell \u001b[0;32mIn[2], line 75\u001b[0m\n\u001b[1;32m     72\u001b[0m \u001b[38;5;66;03m# Load potential\u001b[39;00m\n\u001b[1;32m     73\u001b[0m pot \u001b[38;5;241m=\u001b[39m \u001b[38;5;241m1\u001b[39m\n\u001b[0;32m---> 75\u001b[0m response \u001b[38;5;241m=\u001b[39m \u001b[43mpot\u001b[49m\u001b[38;5;241;43m.\u001b[39;49m\u001b[43mgrad\u001b[49m([c_scale\u001b[38;5;241m*\u001b[39mcmesh[\u001b[38;5;241m0\u001b[39m], c_scale\u001b[38;5;241m*\u001b[39mcmesh[\u001b[38;5;241m1\u001b[39m]]\u001b[38;5;241m+\u001b[39m[p_phase, \u001b[38;5;241m1\u001b[39m\u001b[38;5;241m-\u001b[39mp_phase])   \u001b[38;5;66;03m#Fixme - shouldn't be negative\u001b[39;00m\n\u001b[1;32m     77\u001b[0m mu \u001b[38;5;241m=\u001b[39m as_vector(response[:n])\n\u001b[1;32m     78\u001b[0m P \u001b[38;5;241m=\u001b[39m as_vector(response[n:])\n",
      "\u001b[0;31mAttributeError\u001b[0m: 'int' object has no attribute 'grad'"
     ]
    }
   ],
   "source": [
    "from firedrake import *\n",
    "from math import log, ceil\n",
    "from firedrake.petsc import PETSc\n",
    "\n",
    "def print(*args, **kwargs):\n",
    "    #Overloads print to be the petsc routine which relegates to the head mpi rank\n",
    "    PETSc.Sys.Print(*args,flush=True)\n",
    "\n",
    "M_phi = 1e-3#1e-8\n",
    "D = 1e-3 #m^2/s = .1 cm^2/s\n",
    "interface_width = .1\n",
    "\n",
    "x_scale = 1\n",
    "c_scale = 1\n",
    "\n",
    "Lx = 4\n",
    "Ly = Lx/1\n",
    "Lz = Lx/1\n",
    "\n",
    "\n",
    "# Coarse mesh should have an 'appreciable' resolution. Fine mesh is scale of feature of interest\n",
    "mesh_res_coarse = Lx/4\n",
    "mesh_res_final = interface_width #target mesh resolution\n",
    "mg_levels = ceil( log(mesh_res_coarse/mesh_res_final,2) )\n",
    "print('Using {} levels of refinement'.format(mg_levels))\n",
    "\n",
    "mesh = BoxMesh(round(Lx/mesh_res_coarse), round(Ly/mesh_res_coarse), round(Lz/mesh_res_coarse), Lx/x_scale, Ly/x_scale, Lz/x_scale, reorder=True)\n",
    "\n",
    "hierarchy = MeshHierarchy(mesh, mg_levels)\n",
    "mesh = hierarchy[-1]\n",
    "# with File(\"mesh_mg.pvd\") as of:\n",
    "#     of.write(hierarchy[0])\n",
    "outfile = File(\"mesh_mg.pvd\")\n",
    "outfile.write(hierarchy[0])\n",
    "# outfile.write(*hierarchy)\n",
    "#mesh = hierarchy[2]\n",
    "#[outfile.write(mesh,time=i) for i,mesh in enumerate(hierarchy)]\n",
    "# for i in range(len(hierarchy)):\n",
    "#     print(i)\n",
    "#     outfile.write(*hierarchy,time=i)\n",
    "print('Mesh hierarchy assembled')\n",
    "\n",
    "# utility function to help with non-dimensionalization\n",
    "def gr(x):\n",
    "    return grad(x)/x_scale\n",
    "\n",
    "\n",
    "\n",
    "xmesh = SpatialCoordinate(mesh)\n",
    "x = xmesh*x_scale\n",
    "\n",
    "V_phase = FunctionSpace(mesh, \"CG\", 1, name=\"phases\")\n",
    "V_species = VectorFunctionSpace(mesh, \"CG\", 1, dim=2, name =\"species\")\n",
    "V = MixedFunctionSpace([V_species, V_phase])\n",
    "\n",
    "U = Function(V)\n",
    "dU = TrialFunction(V)\n",
    "test_U = TestFunction(V)\n",
    "test_c, test_phase = split(test_U)\n",
    "\n",
    "cmesh, phase = split(U)\n",
    "c = c_scale*cmesh\n",
    "\n",
    "# Phase field functions\n",
    "p_phase = phase**3*(6*phase**2-15*phase+10)\n",
    "g_phase = phase**2*(1-phase)**2\n",
    "interface_area = 3*( interface_width**2*inner(gr(phase),gr(phase)) + g_phase)\n",
    "interface_energy = 5000\n",
    "\n",
    "ps = as_vector([p_phase, 1-p_phase])\n",
    "\n",
    "# Load potential\n",
    "pot = 1\n",
    "\n",
    "response = pot.grad([c_scale*cmesh[0], c_scale*cmesh[1]]+[p_phase, 1-p_phase])   #Fixme - shouldn't be negative\n",
    "\n",
    "mu = as_vector(response[:n])\n",
    "P = as_vector(response[n:])\n",
    "print('Thermodynamic driver forces loaded')\n",
    "\n",
    "J =  -D*gr(mu)\n",
    "F_diffusion = inner(J, gr(test_c))*dx\n",
    "F_diffusion = 1/c_scale*F_diffusion\n",
    "\n",
    "F_phase = -M_phi*inner(P, derivative(ps, phase, test_phase))*dx                         #bulk\n",
    "F_phase += -M_phi*derivative(interface_energy*interface_area, phase, test_phase)*dx     #interfacial\n",
    "\n",
    "F = F_diffusion + F_phase\n",
    "\n",
    "params = {'snes_monitor': None,\n",
    "          'snes_max_it': 10,\n",
    "          'snes_atol':1e-6,\n",
    "          'snes_rtol':1e-20,\n",
    "          'snes_view': None,\n",
    "          'ksp_converged_reason': None,\n",
    "          #'snes_linesearch_type': 'bt',\n",
    "\n",
    "          #Direct\n",
    "          #'pc_type': 'lu', 'ksp_type': 'preonly', 'pc_factor_mat_solver_type': 'mumps',\n",
    "\n",
    "          #Geometric multigrid\n",
    "          'ksp_type':'fgmres', 'pc_type':'mg', 'mg_coarse_pc_type':'lu','mg_coarse_pc_factor_mat_solver_type':'mumps',\n",
    "          }\n",
    "\n",
    "# Since using a quadratic potential, we can just get initial values from expansion point\n",
    "pt = pot.additional_fields['expansion_point']\n",
    "print(pt)\n",
    "\n",
    "ci_a = as_vector([pt['c0_a'], pt['c1_a']])/pt['V_a']\n",
    "ci_b = as_vector([pt['c0_b'], pt['c1_b']])/pt['V_b']\n",
    "print(ci_a)\n",
    "print(ci_b)\n",
    "# ci0 = as_vector([.2, .8])\n",
    "# ci1 = as_vector([.8, .2])\n",
    "\n",
    "# ~~~ Initial conditions ~~~ #\n",
    "rc = 0*as_vector([1,1,1])\n",
    "r = sqrt(inner(x-rc,x-rc))\n",
    "#p0 = (.5*(1.-tanh((x[0]-.5*Lx)/(2.*interface_width))))# * (.5*(1.-tanh((3-x[0])/(2.*interface_width))))\n",
    "p0 = (.5*(1.-tanh((r-.2*10)/(2.*interface_width))))# * (.5*(1.-tanh((3-x[0])/(2.*interface_width))))\n",
    "#pp0 = p0**3*(6*p0**2-15*p0+10)\n",
    "\n",
    "U.sub(1).interpolate(p0)\n",
    "\n",
    "ic = p0*(1+0*1e-3)*ci_a+(1-p0)*ci_b\n",
    "U.sub(0).interpolate(ic/c_scale)\n",
    "\n",
    "# Boundary conditions\n",
    "bcs = [\n",
    "    DirichletBC(V.sub(1), Constant(0), 2),\n",
    "    #DirichletBC(V.sub(0), ci1/c_scale, 2),\n",
    "    #DirichletBC(V.sub(3),Constant([0,0,0]), boundaries),\n",
    "    ]\n",
    "\n",
    "\n",
    "# Set up time stepper\n",
    "\n",
    "dt = Constant(5.0e-2)\n",
    "t_end = 10000.0\n",
    "t = Constant(0.0)\n",
    "\n",
    "tm = as_vector([1, 1, 1])\n",
    "stepper = timestepper(U, test_U, [F_diffusion, F_phase], [], tm, bcs=bcs, dt = dt, params=params)\n",
    "\n",
    "field_names = ['c', 'ps', 'P', 'mu']#, 'ca', 'cb']\n",
    "writer = writer([ 'cmesh', 'phase'], field_names,[eval(f) for f in field_names],mesh)\n",
    "writer.write(U, 0.0)\n",
    "\n",
    "iter_t = 0\n",
    "eps_tol_t= 10\n",
    "eps_tol_t_target = eps_tol_t/2\n",
    "\n",
    "phase_old = Function(V_phase)\n",
    "\n",
    "while float(t) < t_end and iter_t<10:\n",
    "\n",
    "    iter_t +=1\n",
    "    phase_old.assign(U.sub(1))\n",
    "    print('')\n",
    "\n",
    "    print('{:n}: Time: {:6.4g}'.format(iter_t, float(t+dt)))\n",
    "    try:\n",
    "        so, eps_t, maxdt = stepper.step(dt)\n",
    "        # If time step successful\n",
    "        print('Succeeded. Estimated error: {:4.2g}, max change {:4.2g}'.format(eps_t, maxdt))\n",
    "    except KeyboardInterrupt:\n",
    "        print ('KeyboardInterrupt exception is caught')\n",
    "        break\n",
    "\n",
    "    except Exception as ex:\n",
    "        # Time stepper failed. Retry with smaller timestep\n",
    "        #raise\n",
    "        print('failed')\n",
    "        print(ex)\n",
    "        dt.assign(float(dt)*.5)\n",
    "        stepper.reset_step()\n",
    "        continue\n",
    "\n",
    "    # Time step was successful and has been accepted\n",
    "    t.assign(float(t)+float(dt))\n",
    "    stepper.accept_step()\n",
    "    stepper.solver.parameters.pop('snes_view',None) # Unset the snes_viewer so as not to repeat it.\n",
    "    # Adapt the time step to some metric\n",
    "    dphase = errornorm(phase,phase_old,'l10')\n",
    "    print('max phase change', dphase)\n",
    "    dphase_target = .1\n",
    "    #dt.assign(float(dt)*min( (eps_tol_t_target/(eps_t+1e-10)), 5))  # Change timestep to aim for tolerance\n",
    "    dt.assign(float(dt)*min( (dphase_target/(dphase)), 20))  # Change timestep to aim for tolerance\n",
    "\n",
    "    if iter_t %1 ==0:\n",
    "        writer.write(U, time=float(t))"
   ]
  },
  {
   "cell_type": "code",
   "execution_count": 11,
   "metadata": {},
   "outputs": [
    {
     "data": {
      "text/plain": [
       "[<matplotlib.lines.Line2D at 0x7f9f25072b90>]"
      ]
     },
     "execution_count": 11,
     "metadata": {},
     "output_type": "execute_result"
    },
    {
     "data": {
      "image/png": "[encoded data removed]",
      "text/plain": [
       "<Figure size 432x288 with 1 Axes>"
      ]
     },
     "metadata": {
      "needs_background": "light"
     },
     "output_type": "display_data"
    }
   ],
   "source": [
    "import matplotlib.pyplot as plt\n",
    "import numpy as np\n",
    "\n",
    "x = np.linspace(0,1,100)\n",
    "y =  1/(1+2.71**(-2.0*50.0*((x-1)**2 -0.1)))*(((x-1)**2)**(0.1))\n",
    "y = y\n",
    "plt.plot(x,y)"
   ]
  },
  {
   "cell_type": "code",
   "execution_count": 29,
   "metadata": {},
   "outputs": [
    {
     "data": {
      "text/plain": [
       "[<matplotlib.lines.Line2D at 0x7f9f247c0e80>]"
      ]
     },
     "execution_count": 29,
     "metadata": {},
     "output_type": "execute_result"
    },
    {
     "data": {
      "image/png": "[encoded data removed]",
      "text/plain": [
       "<Figure size 432x288 with 1 Axes>"
      ]
     },
     "metadata": {
      "needs_background": "light"
     },
     "output_type": "display_data"
    }
   ],
   "source": [
    "y =((0.8 - 0.2)*(1.-np.tanh((x)/(2.*0.05))) )+ 0.2\n",
    "plt.plot(x,y)"
   ]
  },
  {
   "cell_type": "code",
   "execution_count": null,
   "metadata": {},
   "outputs": [],
   "source": []
  }
 ],
 "metadata": {
  "kernelspec": {
   "display_name": "Python 3 (ipykernel)",
   "language": "python",
   "name": "python3"
  },
  "language_info": {
   "codemirror_mode": {
    "name": "ipython",
    "version": 3
   },
   "file_extension": ".py",
   "mimetype": "text/x-python",
   "name": "python",
   "nbconvert_exporter": "python",
   "pygments_lexer": "ipython3",
   "version": "3.10.12"
  }
 },
 "nbformat": 4,
 "nbformat_minor": 4
}
