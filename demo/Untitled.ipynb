{
 "cells": [
  {
   "cell_type": "code",
   "execution_count": 1,
   "id": "937f2dc2",
   "metadata": {},
   "outputs": [],
   "source": [
    "from sys import path\n",
    "path.append(\"../../\") # go to parent dir\n",
    "import thermo_potentials as tp"
   ]
  },
  {
   "cell_type": "code",
   "execution_count": 2,
   "id": "d7249085",
   "metadata": {},
   "outputs": [],
   "source": [
    "#import binary_2phase_elastic\n",
    "#binary_2phase_elastic.build_potential()"
   ]
  },
  {
   "cell_type": "code",
   "execution_count": 4,
   "id": "65a58bf5",
   "metadata": {},
   "outputs": [],
   "source": [
    "pot = tp.load_potential('binary_2phase_elastic')"
   ]
  },
  {
   "cell_type": "code",
   "execution_count": 8,
   "id": "d3017322",
   "metadata": {},
   "outputs": [
    {
     "name": "stdout",
     "output_type": "stream",
     "text": [
      "<thermo_potentials.potentials.potential object at 0x7fd5b8bc9c00>\n"
     ]
    }
   ],
   "source": [
    "print(pot)"
   ]
  },
  {
   "cell_type": "code",
   "execution_count": 9,
   "id": "df2337cf",
   "metadata": {},
   "outputs": [
    {
     "data": {
      "text/plain": [
       "<function thermo_potentials.systems.matrix_methods.solve_KKT.<locals>.<lambda>(x)>"
      ]
     },
     "execution_count": 9,
     "metadata": {},
     "output_type": "execute_result"
    }
   ],
   "source": []
  },
  {
   "cell_type": "code",
   "execution_count": null,
   "id": "16e791e7",
   "metadata": {},
   "outputs": [],
   "source": []
  }
 ],
 "metadata": {
  "kernelspec": {
   "display_name": "Python 3 (ipykernel)",
   "language": "python",
   "name": "python3"
  },
  "language_info": {
   "codemirror_mode": {
    "name": "ipython",
    "version": 3
   },
   "file_extension": ".py",
   "mimetype": "text/x-python",
   "name": "python",
   "nbconvert_exporter": "python",
   "pygments_lexer": "ipython3",
   "version": "3.10.12"
  }
 },
 "nbformat": 4,
 "nbformat_minor": 5
}
